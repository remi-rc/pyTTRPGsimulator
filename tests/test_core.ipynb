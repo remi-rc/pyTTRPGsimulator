{
 "cells": [
  {
   "cell_type": "code",
   "execution_count": 2,
   "metadata": {},
   "outputs": [
    {
     "name": "stderr",
     "output_type": "stream",
     "text": [
      "This is a test error message from module actors\n"
     ]
    }
   ],
   "source": [
    "import logging\n",
    "from context import pyTTRPGsimulator as rpg\n",
    "rpg.setup_logging(logging.INFO)\n",
    "\n",
    "\n",
    "%reload_ext autoreload\n",
    "%autoreload 2"
   ]
  },
  {
   "cell_type": "code",
   "execution_count": 3,
   "metadata": {},
   "outputs": [
    {
     "name": "stdout",
     "output_type": "stream",
     "text": [
      "Attributes(physical_defense=8, mystical_defense=8, physical_damage_reduction=0, mystical_damage_reduction=0, max_health_points=10, max_stamina_points=0, max_grit_points=0, max_mana_points=0, might=0, agility=0, intelligence=0, charisma=0, prime_modifier_bonus=0, might_save=0, agility_save=0, intelligence_save=0, charisma_save=0, might_check=0, agility_check=0, intelligence_check=0, charisma_check=0, initiative=0, move_speed=5, might_adv=0, agility_adv=0, intelligence_adv=0, charisma_adv=0, combat_mastery=0, spell_DC=0, max_action_points=4, max_attack_before_penalty=1, critical_hit_damage=2, critical_hit_threshold=20, heavy_hit_damage=1, brutal_hit_damage=1, death_threshold=0, mastery_light_armor=True, mastery_heavy_armor=False, is_magic=False, is_bleeding=False, is_blinded=False, is_burning=False, is_charmed=False, is_dazed=False, is_deafened=False, is_doomed=False, is_exposed=False, is_frightened=False, is_grappled=False, is_hindered=False, is_impaired=False, is_incapacitated=False, is_intimidated=False, is_invisible=False, is_paralyzed=False, is_petrified=False, is_prone=False)\n",
      "Attributes(physical_defense=16, mystical_defense=16, physical_damage_reduction=0, mystical_damage_reduction=0, max_health_points=20, max_stamina_points=0, max_grit_points=0, max_mana_points=0, might=0, agility=0, intelligence=0, charisma=0, prime_modifier_bonus=0, might_save=0, agility_save=0, intelligence_save=0, charisma_save=0, might_check=0, agility_check=0, intelligence_check=0, charisma_check=0, initiative=0, move_speed=10, might_adv=0, agility_adv=0, intelligence_adv=0, charisma_adv=0, combat_mastery=0, spell_DC=0, max_action_points=8, max_attack_before_penalty=2, critical_hit_damage=4, critical_hit_threshold=40, heavy_hit_damage=2, brutal_hit_damage=2, death_threshold=0, mastery_light_armor=True, mastery_heavy_armor=False, is_magic=False, is_bleeding=False, is_blinded=False, is_burning=False, is_charmed=False, is_dazed=False, is_deafened=False, is_doomed=False, is_exposed=False, is_frightened=False, is_grappled=False, is_hindered=False, is_impaired=False, is_incapacitated=False, is_intimidated=False, is_invisible=False, is_paralyzed=False, is_petrified=False, is_prone=False)\n",
      "True\n"
     ]
    }
   ],
   "source": [
    "attributes = rpg.actor_attributes\n",
    "\n",
    "print(attributes)\n",
    "print(attributes + attributes)\n",
    "print(attributes == attributes)"
   ]
  },
  {
   "cell_type": "code",
   "execution_count": 4,
   "metadata": {},
   "outputs": [
    {
     "name": "stderr",
     "output_type": "stream",
     "text": [
      "\n",
      "Rolling for initiative:\n",
      "Coach gets 6\n",
      "Penguin King gets 17\n",
      "\n",
      "Turn order determined:\n",
      "1/ Penguin King\n",
      "2/ Coach\n",
      "\n",
      "\n",
      "################ NEW ROUND ################\n",
      "Alive actors at round 0:\n",
      "    Coach, HPs: 10/10\n",
      "    Penguin King, HPs: 10/10\n",
      "\n",
      "Penguin King's turn:\n",
      "Penguin King is now targeting Coach\n",
      "Penguin King's attack hits Coach.\n",
      "* Coach took 2 total damage:\n",
      "   - 2 Slashing damage\n",
      "* Coach now has 8 HP left.\n",
      "Penguin King gains advantage. Advantage count is now 1.\n",
      "Penguin King's attack hits Coach.\n",
      "* Coach took 2 total damage:\n",
      "   - 2 Slashing damage\n",
      "* Coach now has 6 HP left.\n",
      "Penguin King's attack hits Coach.\n",
      "* Coach took 2 total damage:\n",
      "   - 2 Slashing damage\n",
      "* Coach now has 4 HP left.\n",
      "\n",
      "Coach's turn:\n",
      "Coach is now targeting Penguin King\n",
      "Coach's attack hits Penguin King.\n",
      "* Penguin King took 3 total damage:\n",
      "   - 3 Slashing damage\n",
      "* Penguin King now has 7 HP left.\n",
      "Coach gains advantage. Advantage count is now 1.\n",
      "Coach's attack hits Penguin King.\n",
      "* Penguin King took 2 total damage:\n",
      "   - 2 Slashing damage\n",
      "* Penguin King now has 5 HP left.\n",
      "Coach's attack hits Penguin King.\n",
      "* Penguin King took 2 total damage:\n",
      "   - 2 Slashing damage\n",
      "* Penguin King now has 3 HP left.\n",
      "\n",
      "################ NEW ROUND ################\n",
      "Alive actors at round 1:\n",
      "    Coach, HPs: 4/10\n",
      "    Penguin King, HPs: 3/10\n",
      "\n",
      "Penguin King's turn:\n",
      "Penguin King is now targeting Coach\n",
      "Penguin King's attack hits Coach.\n",
      "* Coach took 3 total damage:\n",
      "   - 3 Slashing damage\n",
      "* Coach now has 1 HP left.\n",
      "Penguin King gains advantage. Advantage count is now 1.\n",
      "Penguin King's attack hits Coach.\n",
      "* Coach took 3 total damage:\n",
      "   - 3 Slashing damage\n",
      "* Coach now has -2 HP left.\n",
      "\n",
      "Fight is over !\n",
      "\n"
     ]
    },
    {
     "name": "stdout",
     "output_type": "stream",
     "text": [
      "defender :  Coach: physical_defense: 8, mystical_defense: 8, max_health_points: 10, move_speed: 5, max_action_points: 4, max_attack_before_penalty: 1, critical_hit_damage: 2, critical_hit_threshold: 20, heavy_hit_damage: 1, brutal_hit_damage: 1, mastery_light_armor: True\n",
      "defender :  Coach: physical_defense: 8, mystical_defense: 8, max_health_points: 10, move_speed: 5, max_action_points: 4, max_attack_before_penalty: 1, critical_hit_damage: 2, critical_hit_threshold: 20, heavy_hit_damage: 1, brutal_hit_damage: 1, mastery_light_armor: True\n",
      "defender :  Coach: physical_defense: 8, mystical_defense: 8, max_health_points: 10, move_speed: 5, max_action_points: 4, max_attack_before_penalty: 1, critical_hit_damage: 2, critical_hit_threshold: 20, heavy_hit_damage: 1, brutal_hit_damage: 1, mastery_light_armor: True\n",
      "defender :  Penguin King: physical_defense: 8, mystical_defense: 8, max_health_points: 10, move_speed: 5, max_action_points: 4, max_attack_before_penalty: 1, critical_hit_damage: 2, critical_hit_threshold: 20, heavy_hit_damage: 1, brutal_hit_damage: 1, mastery_light_armor: True\n",
      "defender :  Penguin King: physical_defense: 8, mystical_defense: 8, max_health_points: 10, move_speed: 5, max_action_points: 4, max_attack_before_penalty: 1, critical_hit_damage: 2, critical_hit_threshold: 20, heavy_hit_damage: 1, brutal_hit_damage: 1, mastery_light_armor: True\n",
      "defender :  Penguin King: physical_defense: 8, mystical_defense: 8, max_health_points: 10, move_speed: 5, max_action_points: 4, max_attack_before_penalty: 1, critical_hit_damage: 2, critical_hit_threshold: 20, heavy_hit_damage: 1, brutal_hit_damage: 1, mastery_light_armor: True\n",
      "defender :  Coach: physical_defense: 8, mystical_defense: 8, max_health_points: 10, move_speed: 5, max_action_points: 4, max_attack_before_penalty: 1, critical_hit_damage: 2, critical_hit_threshold: 20, heavy_hit_damage: 1, brutal_hit_damage: 1, mastery_light_armor: True\n",
      "defender :  Coach: physical_defense: 8, mystical_defense: 8, max_health_points: 10, move_speed: 5, max_action_points: 4, max_attack_before_penalty: 1, critical_hit_damage: 2, critical_hit_threshold: 20, heavy_hit_damage: 1, brutal_hit_damage: 1, mastery_light_armor: True\n",
      "Fight Debrief:\n",
      "\n",
      "Allies Status:\n",
      "Coach - Dead, HP: -2\n",
      "\n",
      "Enemies Status:\n",
      "Penguin King - Alive, HP: 3\n"
     ]
    }
   ],
   "source": [
    "# Create a basic sword\n",
    "sword_dmg = rpg.Damage(damage_type=rpg.Slashing(), \n",
    "                        value=2)\n",
    "sword = rpg.Sword(name=\"Basic sword\",\n",
    "        damages=sword_dmg)\n",
    "\n",
    "# Create some actors (PC and monster)\n",
    "actor_1 = rpg.Actor(name=\"Coach\", items=sword)\n",
    "actor_2 = rpg.Actor(name=\"Penguin King\", items=sword)\n",
    "\n",
    "# Initialize the combat manager\n",
    "combat_manager = rpg.CombatManager([actor_1], [actor_2], initiative_dc=10)\n",
    "\n",
    "# Run the combat\n",
    "combat_manager.run_combat()\n",
    "\n",
    "# Print the outcome\n",
    "print(combat_manager.fight_debrief())"
   ]
  },
  {
   "cell_type": "code",
   "execution_count": 5,
   "metadata": {},
   "outputs": [],
   "source": [
    "# Creating some damage modifiers\n",
    "fire_vulnerability = rpg.Trait(name=\"fire_vulnerability\",\n",
    "                               damage_modifiers=rpg.Vulnerability(damage_type=rpg.Fire(), \n",
    "                                                                  value=2, is_multiplicative=True))\n",
    "fire_resistance = rpg.Trait(name=\"fire_resistance\",\n",
    "                            damage_modifiers=rpg.Resistance(damage_type=rpg.Fire(), value=1))\n",
    "fire_immune = rpg.Trait(name=\"fire_immune\",\n",
    "                        damage_modifiers=rpg.Resistance(damage_type=rpg.Fire(), \n",
    "                                                        value=0, is_multiplicative=True))"
   ]
  },
  {
   "cell_type": "code",
   "execution_count": 6,
   "metadata": {},
   "outputs": [
    {
     "name": "stdout",
     "output_type": "stream",
     "text": [
      "['fire_vulnerability']\n"
     ]
    }
   ],
   "source": [
    "# Creating an epic sword\n",
    "\n",
    "fire_damage = rpg.Damage(damage_type=rpg.Fire(), value=4)\n",
    "physical_damage = rpg.Damage(damage_type=rpg.Slashing(), value=2)\n",
    "\n",
    "# Multiple ways to create a sword\n",
    "sword = rpg.Weapon(name=\"Flaming Sword\", weapon_range=1, damages=[physical_damage, fire_damage])\n",
    "sword.weapon_styles = [rpg.Sword_style()]\n",
    "\n",
    "sword = rpg.MeleeWeapon(name=\"Flaming Sword\", damages=[physical_damage, fire_damage])\n",
    "sword.weapon_styles = [rpg.Sword_style()]\n",
    "\n",
    "sword = rpg.MeleeWeapon(name=\"Flaming Sword\", weapon_styles=rpg.Sword_style(), \n",
    "                        damages=[physical_damage, fire_damage])\n",
    "\n",
    "sword = rpg.Sword(name=\"Flaming Sword\", damages=[physical_damage, fire_damage])\n",
    "\n",
    "# Adding damage modifiers to items\n",
    "sword.add_trait([fire_vulnerability])\n",
    "\n",
    "print([trait.name for trait in sword.traits])\n"
   ]
  },
  {
   "cell_type": "code",
   "execution_count": 7,
   "metadata": {},
   "outputs": [
    {
     "name": "stdout",
     "output_type": "stream",
     "text": [
      "epic_ring ['Epic Ring Trait']\n",
      "magic_robes ['Spell DC increase']\n",
      "heavy_armor ['fire_resistance']\n"
     ]
    }
   ],
   "source": [
    "# Creating some items\n",
    "ring_trait = rpg.Trait(name=\"Epic Ring Trait\",\n",
    "                        damage_modifiers=rpg.Resistance(damage_type=rpg.Fire(), \n",
    "                                                        value=0, is_multiplicative=True),\n",
    "                        initiative=2, critical_hit_threshold=-1)\n",
    "\n",
    "epic_ring = rpg.Item(name=\"Epic Ring\", traits=ring_trait)\n",
    "epic_ring = rpg.Item(name=\"Epic Ring\", traits=[ring_trait])\n",
    "epic_ring = rpg.Item(name=\"Epic Ring\")\n",
    "epic_ring.add_trait([ring_trait])\n",
    "\n",
    "shield = rpg.Shield(name=\"Targe\", physical_defense=2, physical_damage_reduction=1)\n",
    "\n",
    "spellDC_trait = rpg.Trait(spell_DC=1, name= \"Spell DC increase\")  # Increase your spell DC by 1\n",
    "magic_robes = rpg.Armor(name=\"Magic Robes of spell DC\", physical_defense=1, traits=[spellDC_trait])\n",
    "\n",
    "\n",
    "heavy_armor = rpg.Armor(physical_defense=3, traits=[fire_resistance], name=\"Plate Armor\")\n",
    "\n",
    "print(\"epic_ring\", [trait.name for trait in epic_ring.traits])\n",
    "print(\"magic_robes\", [trait.name for trait in magic_robes.traits])\n",
    "print(\"heavy_armor\", [trait.name for trait in heavy_armor.traits])"
   ]
  },
  {
   "cell_type": "code",
   "execution_count": 8,
   "metadata": {},
   "outputs": [
    {
     "name": "stdout",
     "output_type": "stream",
     "text": [
      "Attributes(physical_defense=2, mystical_defense=0, physical_damage_reduction=1, mystical_damage_reduction=0, max_health_points=0, max_stamina_points=0, max_grit_points=0, max_mana_points=0, might=0, agility=0, intelligence=0, charisma=0, prime_modifier_bonus=0, might_save=0, agility_save=0, intelligence_save=0, charisma_save=0, might_check=0, agility_check=0, intelligence_check=0, charisma_check=0, initiative=0, move_speed=0, might_adv=0, agility_adv=0, intelligence_adv=0, charisma_adv=0, combat_mastery=0, spell_DC=0, max_action_points=0, max_attack_before_penalty=0, critical_hit_damage=0, critical_hit_threshold=0, heavy_hit_damage=0, brutal_hit_damage=0, death_threshold=0, mastery_light_armor=False, mastery_heavy_armor=False, is_magic=False, is_bleeding=False, is_blinded=False, is_burning=False, is_charmed=False, is_dazed=False, is_deafened=False, is_doomed=False, is_exposed=False, is_frightened=False, is_grappled=False, is_hindered=False, is_impaired=False, is_incapacitated=False, is_intimidated=False, is_invisible=False, is_paralyzed=False, is_petrified=False, is_prone=False)\n",
      "Attributes(physical_defense=1, mystical_defense=0, physical_damage_reduction=0, mystical_damage_reduction=0, max_health_points=0, max_stamina_points=0, max_grit_points=0, max_mana_points=0, might=0, agility=0, intelligence=0, charisma=0, prime_modifier_bonus=0, might_save=0, agility_save=0, intelligence_save=0, charisma_save=0, might_check=0, agility_check=0, intelligence_check=0, charisma_check=0, initiative=0, move_speed=0, might_adv=0, agility_adv=0, intelligence_adv=0, charisma_adv=0, combat_mastery=0, spell_DC=1, max_action_points=0, max_attack_before_penalty=0, critical_hit_damage=0, critical_hit_threshold=0, heavy_hit_damage=0, brutal_hit_damage=0, death_threshold=0, mastery_light_armor=False, mastery_heavy_armor=False, is_magic=False, is_bleeding=False, is_blinded=False, is_burning=False, is_charmed=False, is_dazed=False, is_deafened=False, is_doomed=False, is_exposed=False, is_frightened=False, is_grappled=False, is_hindered=False, is_impaired=False, is_incapacitated=False, is_intimidated=False, is_invisible=False, is_paralyzed=False, is_petrified=False, is_prone=False)\n",
      "Attributes(physical_defense=3, mystical_defense=0, physical_damage_reduction=0, mystical_damage_reduction=0, max_health_points=0, max_stamina_points=0, max_grit_points=0, max_mana_points=0, might=0, agility=0, intelligence=0, charisma=0, prime_modifier_bonus=0, might_save=0, agility_save=0, intelligence_save=0, charisma_save=0, might_check=0, agility_check=0, intelligence_check=0, charisma_check=0, initiative=0, move_speed=0, might_adv=0, agility_adv=0, intelligence_adv=0, charisma_adv=0, combat_mastery=0, spell_DC=0, max_action_points=0, max_attack_before_penalty=0, critical_hit_damage=0, critical_hit_threshold=0, heavy_hit_damage=0, brutal_hit_damage=0, death_threshold=0, mastery_light_armor=False, mastery_heavy_armor=False, is_magic=False, is_bleeding=False, is_blinded=False, is_burning=False, is_charmed=False, is_dazed=False, is_deafened=False, is_doomed=False, is_exposed=False, is_frightened=False, is_grappled=False, is_hindered=False, is_impaired=False, is_incapacitated=False, is_intimidated=False, is_invisible=False, is_paralyzed=False, is_petrified=False, is_prone=False)\n"
     ]
    }
   ],
   "source": [
    "print(shield.attributes)\n",
    "print(magic_robes.attributes)\n",
    "print(heavy_armor.attributes)"
   ]
  },
  {
   "cell_type": "code",
   "execution_count": 9,
   "metadata": {},
   "outputs": [
    {
     "name": "stdout",
     "output_type": "stream",
     "text": [
      "[]\n",
      "3\n",
      "3\n",
      "5\n",
      "5\n",
      "4\n",
      "20\n",
      "3\n",
      "hero_1 traits []\n",
      "sword.is_magic ? True\n",
      "hero_1.is_magic ? True\n",
      "hero_1.has_magic_weapon ? True\n",
      "hero_1.is_magic ? False\n"
     ]
    }
   ],
   "source": [
    "# Creating an actor  (stats are 0 by default)\n",
    "hero_1 = rpg.Actor(max_health_points=20, \n",
    "                   combat_mastery=3, might=3, max_mana_points=5, name=\"hero_1\")\n",
    "hero_2 = rpg.Actor(max_health_points=20, combat_mastery=3, might=3, name=\"hero_2\")\n",
    "\n",
    "# Some status effects : the name is required for now to differentiate when a similar effect is added twice\n",
    "bleeding = rpg.Trait(duration=4, is_bleeding=True, name=\"Small bleeding\")\n",
    "blessed = rpg.Trait(duration=4, is_magic=True, name=\"Benediction\")\n",
    "\n",
    "sword.add_trait(blessed)\n",
    "\n",
    "\n",
    "\n",
    "# Attributes are dynamically added bia setters to the Actor class :\n",
    "print(hero_1.traits)\n",
    "print(hero_1.attributes.might)\n",
    "print(hero_1.might)\n",
    "print(hero_1.current_mana_points)\n",
    "print(hero_1.max_mana_points)\n",
    "\n",
    "print(hero_1.current_action_points)\n",
    "print(hero_1.current_health_points)\n",
    "print(hero_1.combat_mastery)\n",
    "\n",
    "print(\"hero_1 traits\", [trait.name for trait in hero_1.traits])\n",
    "\n",
    "hero_1.add_item(sword)\n",
    "\n",
    "print(\"sword.is_magic ?\", sword.is_magic)\n",
    "print(\"hero_1.is_magic ?\", hero_1.is_magic)\n",
    "print(\"hero_1.has_magic_weapon ?\", hero_1.has_magic_weapon)\n",
    "print(\"hero_1.is_magic ?\", hero_1.base_attributes.is_magic)\n",
    "\n",
    "hero_2.add_item(sword)"
   ]
  },
  {
   "cell_type": "code",
   "execution_count": null,
   "metadata": {},
   "outputs": [],
   "source": [
    "hero_great = rpg.Actor(max_health_points=20, \n",
    "                   combat_mastery=3, might=3, max_mana_points=5, name=\"hero_great\")\n",
    "print(\"PD : \", hero_great.physical_defense, \n",
    "      \"MD : \", hero_great.physical_damage_reduction)\n",
    "hero_great.add_item([shield, magic_robes, sword])  # items are unique, and cannot be added twice to an actor\n",
    "print(\"PD : \", hero_great.physical_defense, \n",
    "      \"MD : \", hero_great.physical_damage_reduction)\n",
    "\n",
    "print(\"hero_1 traits\", [trait.name for trait in hero_great.traits])\n",
    "\n",
    "print(\"shield\", shield.damage_modifiers)\n",
    "print(\"magic_robes\", magic_robes.damage_modifiers)\n",
    "print(\"sword\", sword.damage_modifiers)\n",
    "\n",
    "print(\"hero_1 traits\", [trait.name for trait in hero_great.traits])\n",
    "print(\"hero_great.traits\", hero_great.traits)\n",
    "print(len(hero_great.get_trait_sources()))\n",
    "print(\"hero_1 traits\", [trait.name for trait in hero_great.traits])\n",
    "print(len(hero_great.get_trait_sources()))\n",
    "print(\"hero_1 traits\", [trait.name for trait in hero_great.traits])"
   ]
  },
  {
   "cell_type": "code",
   "execution_count": null,
   "metadata": {},
   "outputs": [],
   "source": [
    "print(hero_2.traits)\n",
    "hero_2.add_trait(bleeding)\n",
    "print(hero_2.traits)\n",
    "hero_2.new_round()\n",
    "print(hero_2.traits)\n",
    "print(hero_2.traits)"
   ]
  },
  {
   "cell_type": "code",
   "execution_count": null,
   "metadata": {},
   "outputs": [],
   "source": [
    "print(\"Attributes:\", hero_great.attributes)\n",
    "print(\"Items:\", hero_great.item_manager.get_items())\n",
    "print(\"Items:\", hero_great.item_manager.get_items())\n",
    "print(\"Items:\", hero_great.item_manager.get_items())\n",
    "print(\"Vulnerabilities:\", hero_great.vulnerabilities)\n",
    "\n",
    "print(\"Items:\", [item.traits for item in hero_great.item_manager.get_items()])"
   ]
  },
  {
   "cell_type": "code",
   "execution_count": null,
   "metadata": {},
   "outputs": [],
   "source": [
    "print(\"Weapons:\", sword.vulnerabilities)\n",
    "print(\"Traits:\", [trait.name for trait in hero_great.traits])\n",
    "print(\"Vulnerabilities:\", hero_great.vulnerabilities)\n",
    "print(\"Vulnerabilities:\", hero_great.vulnerabilities)\n",
    "print(\"Vulnerabilities:\", hero_great.vulnerabilities)"
   ]
  },
  {
   "cell_type": "code",
   "execution_count": null,
   "metadata": {},
   "outputs": [],
   "source": [
    "# Display resistances and vulnerabilities\n",
    "\n",
    "print(\"Sword\", sword.attributes)\n",
    "print(\"Weapons:\", hero_great.weapons)\n",
    "print(\"Resistances:\", hero_great.resistances)\n",
    "print(\"Vulnerabilities:\", hero_great.vulnerabilities)\n",
    "print(\"Modifiers:\", hero_great.damage_modifiers)\n",
    "print(\"Vulnerabilities:\", hero_great.vulnerabilities)\n",
    "print(\"Vulnerabilities:\", hero_great.vulnerabilities)\n",
    "print(\"Weapons:\", hero_great.weapons)\n"
   ]
  },
  {
   "cell_type": "code",
   "execution_count": null,
   "metadata": {},
   "outputs": [],
   "source": [
    "# Simulate taking damage\n",
    "damages = [fire_damage, physical_damage]\n",
    "hero_great.take_damage(damages)\n",
    "\n",
    "print(\"physical_defense:\", hero_great.physical_defense)\n",
    "print(\"mystical_defense:\", hero_great.mystical_defense)\n",
    "print(\"health_points:\", hero_great.current_health_points)\n",
    "print(\"modifiers:\", hero_great.damage_modifiers)\n",
    "print(\"mana:\", hero_great.current_mana_points)"
   ]
  },
  {
   "cell_type": "code",
   "execution_count": null,
   "metadata": {},
   "outputs": [],
   "source": [
    "#   Try attacks\n",
    "hero_1.full_rest()\n",
    "hero_2.full_rest()\n",
    "print(\"mana:\", hero_1.current_mana_points, hero_1.max_mana_points)\n",
    "attack = rpg.Attack()\n",
    "attack.execute(hero_1, [hero_2])  # we can wrap this nicely\n",
    "print(\"mana:\", hero_1.current_mana_points)\n",
    "print(hero_1.advantage_count)\n",
    "gain_advantage = rpg.GainAdvantage()\n",
    "gain_advantage.execute(hero_1, [hero_1])\n",
    "print(hero_1.advantage_count)"
   ]
  },
  {
   "cell_type": "code",
   "execution_count": null,
   "metadata": {},
   "outputs": [],
   "source": [
    "# Create a Fireball spell\n",
    "\n",
    "damage_action_success = rpg.InflictDamage(\n",
    "    damages=[rpg.Damage(damage_type=rpg.Fire(), value=10)])\n",
    "\n",
    "damage_action_failure = rpg.InflictDamage(\n",
    "    damages=[rpg.Damage(damage_type=rpg.Fire(), value=20)])\n",
    "\n",
    "fire_condition = rpg.Trait(duration=5, is_burning=True, name=\"Burning\")\n",
    "\n",
    "fireball_action = rpg.ImposeSavingThrow(\n",
    "    stat='Agility',\n",
    "    difficulty=15,\n",
    "    on_success=[damage_action_success],\n",
    "    on_failure=[damage_action_failure, fire_condition]\n",
    ")\n",
    "\n",
    "fireball = rpg.Spell(actions=[fireball_action], school=\"Elemental\", name=\"Fireball\")\n",
    "fireball.execute(hero_1, [hero_2])\n"
   ]
  },
  {
   "cell_type": "code",
   "execution_count": null,
   "metadata": {},
   "outputs": [],
   "source": [
    "fireball.execute(hero_1, [hero_2])\n",
    "\n",
    "print(\"modifiers:\", hero_2.modifiers)\n"
   ]
  },
  {
   "cell_type": "markdown",
   "metadata": {},
   "source": [
    "## Test combat initiative"
   ]
  },
  {
   "cell_type": "code",
   "execution_count": null,
   "metadata": {},
   "outputs": [],
   "source": [
    "# Example usage:\n",
    "players = [rpg.Actor(name=\"Player 1\", health_points=21, Might=4, equipped_items=[sword]),\n",
    "           rpg.Actor(name=\"Player 2\", health_points=22, Might=4, equipped_items=[sword])]\n",
    "monsters = [rpg.Actor(name=\"Monster 1\", health_points=21, Might=4, equipped_items=[sword]),\n",
    "            rpg.Actor(name=\"Monster 2\", health_points=22, Might=4, equipped_items=[sword])]\n",
    "combat_manager = rpg.CombatManager(players, monsters, dc=1)\n",
    "\n",
    "combat_manager.roll_initiative()\n"
   ]
  },
  {
   "cell_type": "markdown",
   "metadata": {},
   "source": [
    "# Test combat"
   ]
  },
  {
   "cell_type": "code",
   "execution_count": null,
   "metadata": {},
   "outputs": [],
   "source": [
    "combat_manager.reset_combat()\n",
    "num_rounds, num_turns, winning_team, remaining_hp = combat_manager.run_combat()\n",
    "print(\"num_rounds = \", num_rounds)\n",
    "print(\"num_turns = \", num_turns)\n",
    "print(\"winning_team = \", winning_team)\n",
    "print(combat_manager.fight_debrief())\n"
   ]
  },
  {
   "cell_type": "markdown",
   "metadata": {},
   "source": [
    "# Statistical results"
   ]
  },
  {
   "cell_type": "code",
   "execution_count": null,
   "metadata": {},
   "outputs": [],
   "source": [
    "players = [rpg.Actor(name=\"Hero 1\", health_points=15, Might=4, physical_defense=15, equipped_items=[sword], \n",
    "                      target_mode=\"target_weakest\", strategy=rpg.HelpAllyStrategy()),\n",
    "           rpg.Actor(name=\"Hero 2\", health_points=15, Might=4, physical_defense=15, equipped_items=[sword], \n",
    "                      target_mode=\"target_weakest\", strategy=rpg.HelpAllyStrategy())]\n",
    "\n",
    "monsters = [rpg.Actor(name=\"Wolf 1\", health_points=15, Might=4, physical_defense=15, equipped_items=[sword], \n",
    "                       target_mode=\"target_weakest\", strategy=rpg.DefaultStrategy()),\n",
    "            rpg.Actor(name=\"Wolf 2\", health_points=15, Might=4, physical_defense=15, equipped_items=[sword], \n",
    "                       target_mode=\"target_weakest\", strategy=rpg.DefaultStrategy())]\n",
    "\n",
    "num_rounds_list, num_turns_list, winrate_A, remaining_hp_list = rpg.run_simulations(5000, players, monsters, dc=15)\n",
    "print(winrate_A)"
   ]
  },
  {
   "cell_type": "code",
   "execution_count": null,
   "metadata": {},
   "outputs": [],
   "source": [
    "rpg.plot_simulation_results(num_turns_list, winrate_A, remaining_hp_list)"
   ]
  }
 ],
 "metadata": {
  "kernelspec": {
   "display_name": "torch",
   "language": "python",
   "name": "python3"
  },
  "language_info": {
   "codemirror_mode": {
    "name": "ipython",
    "version": 3
   },
   "file_extension": ".py",
   "mimetype": "text/x-python",
   "name": "python",
   "nbconvert_exporter": "python",
   "pygments_lexer": "ipython3",
   "version": "3.10.14"
  }
 },
 "nbformat": 4,
 "nbformat_minor": 2
}
