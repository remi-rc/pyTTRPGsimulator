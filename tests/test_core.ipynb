{
 "cells": [
  {
   "cell_type": "code",
   "execution_count": 12,
   "metadata": {},
   "outputs": [],
   "source": [
    "import logging\n",
    "from context import pyTTRPGsimulator as rpg\n",
    "rpg.setup_logging(logging.INFO)\n",
    "\n",
    "\n",
    "%reload_ext autoreload\n",
    "%autoreload 2"
   ]
  },
  {
   "cell_type": "code",
   "execution_count": 13,
   "metadata": {},
   "outputs": [
    {
     "name": "stdout",
     "output_type": "stream",
     "text": [
      "Attributes(physical_defense=8, mystical_defense=8, physical_damage_reduction=0, mystical_damage_reduction=0, max_health_points=10, max_stamina_points=0, max_grit_points=0, max_mana_points=0, might=0, agility=0, intelligence=0, charisma=0, prime_modifier_bonus=0, might_save=0, agility_save=0, intelligence_save=0, charisma_save=0, might_check=0, agility_check=0, intelligence_check=0, charisma_check=0, initiative=0, move_speed=5, might_adv=0, agility_adv=0, intelligence_adv=0, charisma_adv=0, combat_mastery=0, spell_DC=0, max_action_points=4, max_attack_before_penalty=1, critical_hit_damage=2, critical_hit_threshold=20, heavy_hit_damage=1, brutal_hit_damage=1, death_threshold=0, mastery_light_armor=True, mastery_heavy_armor=False, has_magic_weapon=False, has_magic_armor=False, is_bleeding=False, is_blinded=False, is_burning=False, is_charmed=False, is_dazed=False, is_deafened=False, is_doomed=False, is_exposed=False, is_frightened=False, is_grappled=False, is_hindered=False, is_impaired=False, is_incapacitated=False, is_intimidated=False, is_invisible=False, is_paralyzed=False, is_petrified=False, is_prone=False)\n",
      "Attributes(physical_defense=16, mystical_defense=16, physical_damage_reduction=0, mystical_damage_reduction=0, max_health_points=20, max_stamina_points=0, max_grit_points=0, max_mana_points=0, might=0, agility=0, intelligence=0, charisma=0, prime_modifier_bonus=0, might_save=0, agility_save=0, intelligence_save=0, charisma_save=0, might_check=0, agility_check=0, intelligence_check=0, charisma_check=0, initiative=0, move_speed=10, might_adv=0, agility_adv=0, intelligence_adv=0, charisma_adv=0, combat_mastery=0, spell_DC=0, max_action_points=8, max_attack_before_penalty=2, critical_hit_damage=4, critical_hit_threshold=40, heavy_hit_damage=2, brutal_hit_damage=2, death_threshold=0, mastery_light_armor=2, mastery_heavy_armor=0, has_magic_weapon=0, has_magic_armor=0, is_bleeding=0, is_blinded=0, is_burning=0, is_charmed=0, is_dazed=0, is_deafened=0, is_doomed=0, is_exposed=0, is_frightened=0, is_grappled=0, is_hindered=0, is_impaired=0, is_incapacitated=0, is_intimidated=0, is_invisible=0, is_paralyzed=0, is_petrified=0, is_prone=0)\n",
      "True\n"
     ]
    }
   ],
   "source": [
    "attributes = rpg.actor_attributes\n",
    "\n",
    "print(attributes)\n",
    "print(attributes + attributes)\n",
    "print(attributes == attributes)"
   ]
  },
  {
   "cell_type": "code",
   "execution_count": 14,
   "metadata": {},
   "outputs": [],
   "source": [
    "# Creating some damage modifiers\n",
    "fire_vulnerability = rpg.Trait(name=\"fire_vulnerability\",\n",
    "                               damage_modifiers=rpg.Vulnerability(damage_type=rpg.Fire(), \n",
    "                                                                  value=2, is_multiplicative=True))\n",
    "fire_resistance = rpg.Trait(name=\"fire_resistance\",\n",
    "                            damage_modifiers=rpg.Resistance(damage_type=rpg.Fire(), value=1))\n",
    "fire_immune = rpg.Trait(name=\"fire_immune\",\n",
    "                        damage_modifiers=rpg.Resistance(damage_type=rpg.Fire(), \n",
    "                                                        value=0, is_multiplicative=True))"
   ]
  },
  {
   "cell_type": "code",
   "execution_count": 15,
   "metadata": {},
   "outputs": [],
   "source": [
    "# Creating an epic sword\n",
    "\n",
    "fire_damage = rpg.Damage(damage_type=rpg.Fire(), value=4)\n",
    "physical_damage = rpg.Damage(damage_type=rpg.Slashing(), value=2)\n",
    "\n",
    "# Multiple ways to create a sword\n",
    "sword = rpg.Weapon(name=\"Flaming Sword\", weapon_range=1, damages=[physical_damage, fire_damage])\n",
    "sword.weapon_styles = [rpg.Sword_style()]\n",
    "\n",
    "sword = rpg.MeleeWeapon(name=\"Flaming Sword\", damages=[physical_damage, fire_damage])\n",
    "sword.weapon_styles = [rpg.Sword_style()]\n",
    "\n",
    "sword = rpg.MeleeWeapon(name=\"Flaming Sword\", weapon_styles=rpg.Sword_style(), \n",
    "                        damages=[physical_damage, fire_damage])\n",
    "\n",
    "sword = rpg.Sword(name=\"Flaming Sword\", damages=[physical_damage, fire_damage])\n",
    "\n",
    "# Adding damage modifiers to items\n",
    "sword.add_trait([fire_vulnerability])\n"
   ]
  },
  {
   "cell_type": "code",
   "execution_count": 16,
   "metadata": {},
   "outputs": [
    {
     "name": "stdout",
     "output_type": "stream",
     "text": [
      "trait named []\n",
      "trait named ['Spell DC increase']\n",
      "trait named ['fire_resistance']\n"
     ]
    }
   ],
   "source": [
    "# Creating some items\n",
    "ring_trait = rpg.Trait(name=\"Epic Ring Trait\",\n",
    "                        damage_modifiers=rpg.Resistance(damage_type=rpg.Fire(), \n",
    "                                                        value=0, is_multiplicative=True),\n",
    "                        initiative=2, critical_hit_threshold=-1)\n",
    "\n",
    "epic_ring = rpg.Item(name=\"Epic Ring\", traits=ring_trait)\n",
    "epic_ring = rpg.Item(name=\"Epic Ring\", traits=[ring_trait])\n",
    "epic_ring = rpg.Item(name=\"Epic Ring\")\n",
    "epic_ring.add_trait([ring_trait])\n",
    "\n",
    "shield = rpg.Shield(name=\"Targe\", physical_defense=2, physical_damage_reduction=1)\n",
    "\n",
    "spellDC_trait = rpg.Trait(spell_DC=1, name= \"Spell DC increase\")  # Increase your spell DC by 1\n",
    "magic_robes = rpg.Armor(name=\"Magic Robes of spell DC\", physical_defense=1, traits=[spellDC_trait])\n",
    "\n",
    "\n",
    "heavy_armor = rpg.Armor(physical_defense=3, traits=[fire_resistance], name=\"Plate Armor\")\n"
   ]
  },
  {
   "cell_type": "code",
   "execution_count": 17,
   "metadata": {},
   "outputs": [
    {
     "name": "stdout",
     "output_type": "stream",
     "text": [
      "Attributes(physical_defense=2, mystical_defense=0, physical_damage_reduction=1, mystical_damage_reduction=0, max_health_points=0, max_stamina_points=0, max_grit_points=0, max_mana_points=0, might=0, agility=0, intelligence=0, charisma=0, prime_modifier_bonus=0, might_save=0, agility_save=0, intelligence_save=0, charisma_save=0, might_check=0, agility_check=0, intelligence_check=0, charisma_check=0, initiative=0, move_speed=0, might_adv=0, agility_adv=0, intelligence_adv=0, charisma_adv=0, combat_mastery=0, spell_DC=0, max_action_points=0, max_attack_before_penalty=0, critical_hit_damage=0, critical_hit_threshold=0, heavy_hit_damage=0, brutal_hit_damage=0, death_threshold=0, mastery_light_armor=0, mastery_heavy_armor=0, has_magic_weapon=0, has_magic_armor=0, is_bleeding=0, is_blinded=0, is_burning=0, is_charmed=0, is_dazed=0, is_deafened=0, is_doomed=0, is_exposed=0, is_frightened=0, is_grappled=0, is_hindered=0, is_impaired=0, is_incapacitated=0, is_intimidated=0, is_invisible=0, is_paralyzed=0, is_petrified=0, is_prone=0)\n",
      "Attributes(physical_defense=1, mystical_defense=0, physical_damage_reduction=0, mystical_damage_reduction=0, max_health_points=0, max_stamina_points=0, max_grit_points=0, max_mana_points=0, might=0, agility=0, intelligence=0, charisma=0, prime_modifier_bonus=0, might_save=0, agility_save=0, intelligence_save=0, charisma_save=0, might_check=0, agility_check=0, intelligence_check=0, charisma_check=0, initiative=0, move_speed=0, might_adv=0, agility_adv=0, intelligence_adv=0, charisma_adv=0, combat_mastery=0, spell_DC=1, max_action_points=0, max_attack_before_penalty=0, critical_hit_damage=0, critical_hit_threshold=0, heavy_hit_damage=0, brutal_hit_damage=0, death_threshold=0, mastery_light_armor=0, mastery_heavy_armor=0, has_magic_weapon=0, has_magic_armor=0, is_bleeding=0, is_blinded=0, is_burning=0, is_charmed=0, is_dazed=0, is_deafened=0, is_doomed=0, is_exposed=0, is_frightened=0, is_grappled=0, is_hindered=0, is_impaired=0, is_incapacitated=0, is_intimidated=0, is_invisible=0, is_paralyzed=0, is_petrified=0, is_prone=0)\n",
      "Attributes(physical_defense=3, mystical_defense=0, physical_damage_reduction=0, mystical_damage_reduction=0, max_health_points=0, max_stamina_points=0, max_grit_points=0, max_mana_points=0, might=0, agility=0, intelligence=0, charisma=0, prime_modifier_bonus=0, might_save=0, agility_save=0, intelligence_save=0, charisma_save=0, might_check=0, agility_check=0, intelligence_check=0, charisma_check=0, initiative=0, move_speed=0, might_adv=0, agility_adv=0, intelligence_adv=0, charisma_adv=0, combat_mastery=0, spell_DC=0, max_action_points=0, max_attack_before_penalty=0, critical_hit_damage=0, critical_hit_threshold=0, heavy_hit_damage=0, brutal_hit_damage=0, death_threshold=0, mastery_light_armor=0, mastery_heavy_armor=0, has_magic_weapon=0, has_magic_armor=0, is_bleeding=0, is_blinded=0, is_burning=0, is_charmed=0, is_dazed=0, is_deafened=0, is_doomed=0, is_exposed=0, is_frightened=0, is_grappled=0, is_hindered=0, is_impaired=0, is_incapacitated=0, is_intimidated=0, is_invisible=0, is_paralyzed=0, is_petrified=0, is_prone=0)\n"
     ]
    }
   ],
   "source": [
    "print(shield.attributes)\n",
    "print(magic_robes.attributes)\n",
    "print(heavy_armor.attributes)"
   ]
  },
  {
   "cell_type": "code",
   "execution_count": 18,
   "metadata": {},
   "outputs": [
    {
     "name": "stdout",
     "output_type": "stream",
     "text": [
      "trait named []\n",
      "trait named []\n",
      "trait named []\n",
      "[]\n",
      "3\n",
      "3\n",
      "5\n",
      "5\n",
      "4\n",
      "20\n",
      "3\n"
     ]
    }
   ],
   "source": [
    "# Creating an actor  (stats are 0 by default)\n",
    "hero_1 = rpg.Actor(max_health_points=20, \n",
    "                   combat_mastery=3, might=3, max_mana_points=5, name=\"hero_1\")\n",
    "hero_2 = rpg.Actor(max_health_points=20, combat_mastery=3, might=3, name=\"hero_2\")\n",
    "\n",
    "# Some status effects : the name is required for now to differentiate when a similar effect is added twice\n",
    "bleeding = rpg.Trait(duration=4, is_bleeding=True, name=\"Small bleeding\")\n",
    "blessed = rpg.Trait(duration=4, has_magic_weapon=True, name=\"Benediction\")\n",
    "\n",
    "\n",
    "# Attributes are dynamically added bia setters to the Actor class :\n",
    "print(hero_1.traits)\n",
    "print(hero_1.attributes.might)\n",
    "print(hero_1.might)\n",
    "print(hero_1.current_mana_points)\n",
    "print(hero_1.max_mana_points)\n",
    "\n",
    "print(hero_1.current_action_points)\n",
    "print(hero_1.current_health_points)\n",
    "print(hero_1.combat_mastery)"
   ]
  },
  {
   "cell_type": "code",
   "execution_count": 19,
   "metadata": {},
   "outputs": [
    {
     "name": "stdout",
     "output_type": "stream",
     "text": [
      "8 0\n",
      "trait named []\n",
      "trait named ['fire_vulnerability']\n",
      "11 1\n",
      "trait named []\n",
      "shield []\n",
      "trait named ['Spell DC increase']\n",
      "light_armor []\n",
      "trait named ['fire_vulnerability']\n",
      "sword [Vulnerability(Damage Type=Fire, value=2, is_multiplicative=True)]\n",
      "Attributes(physical_defense=2, mystical_defense=0, physical_damage_reduction=1, mystical_damage_reduction=0, max_health_points=0, max_stamina_points=0, max_grit_points=0, max_mana_points=0, might=0, agility=0, intelligence=0, charisma=0, prime_modifier_bonus=0, might_save=0, agility_save=0, intelligence_save=0, charisma_save=0, might_check=0, agility_check=0, intelligence_check=0, charisma_check=0, initiative=0, move_speed=0, might_adv=0, agility_adv=0, intelligence_adv=0, charisma_adv=0, combat_mastery=0, spell_DC=0, max_action_points=0, max_attack_before_penalty=0, critical_hit_damage=0, critical_hit_threshold=0, heavy_hit_damage=0, brutal_hit_damage=0, death_threshold=0, mastery_light_armor=0, mastery_heavy_armor=0, has_magic_weapon=0, has_magic_armor=0, is_bleeding=0, is_blinded=0, is_burning=0, is_charmed=0, is_dazed=0, is_deafened=0, is_doomed=0, is_exposed=0, is_frightened=0, is_grappled=0, is_hindered=0, is_impaired=0, is_incapacitated=0, is_intimidated=0, is_invisible=0, is_paralyzed=0, is_petrified=0, is_prone=0)\n",
      "Attributes(physical_defense=1, mystical_defense=0, physical_damage_reduction=0, mystical_damage_reduction=0, max_health_points=0, max_stamina_points=0, max_grit_points=0, max_mana_points=0, might=0, agility=0, intelligence=0, charisma=0, prime_modifier_bonus=0, might_save=0, agility_save=0, intelligence_save=0, charisma_save=0, might_check=0, agility_check=0, intelligence_check=0, charisma_check=0, initiative=0, move_speed=0, might_adv=0, agility_adv=0, intelligence_adv=0, charisma_adv=0, combat_mastery=0, spell_DC=1, max_action_points=0, max_attack_before_penalty=0, critical_hit_damage=0, critical_hit_threshold=0, heavy_hit_damage=0, brutal_hit_damage=0, death_threshold=0, mastery_light_armor=0, mastery_heavy_armor=0, has_magic_weapon=0, has_magic_armor=0, is_bleeding=0, is_blinded=0, is_burning=0, is_charmed=0, is_dazed=0, is_deafened=0, is_doomed=0, is_exposed=0, is_frightened=0, is_grappled=0, is_hindered=0, is_impaired=0, is_incapacitated=0, is_intimidated=0, is_invisible=0, is_paralyzed=0, is_petrified=0, is_prone=0)\n",
      "Attributes(physical_defense=3, mystical_defense=0, physical_damage_reduction=0, mystical_damage_reduction=0, max_health_points=0, max_stamina_points=0, max_grit_points=0, max_mana_points=0, might=0, agility=0, intelligence=0, charisma=0, prime_modifier_bonus=0, might_save=0, agility_save=0, intelligence_save=0, charisma_save=0, might_check=0, agility_check=0, intelligence_check=0, charisma_check=0, initiative=0, move_speed=0, might_adv=0, agility_adv=0, intelligence_adv=0, charisma_adv=0, combat_mastery=0, spell_DC=0, max_action_points=0, max_attack_before_penalty=0, critical_hit_damage=0, critical_hit_threshold=0, heavy_hit_damage=0, brutal_hit_damage=0, death_threshold=0, mastery_light_armor=0, mastery_heavy_armor=0, has_magic_weapon=0, has_magic_armor=0, is_bleeding=0, is_blinded=0, is_burning=0, is_charmed=0, is_dazed=0, is_deafened=0, is_doomed=0, is_exposed=0, is_frightened=0, is_grappled=0, is_hindered=0, is_impaired=0, is_incapacitated=0, is_intimidated=0, is_invisible=0, is_paralyzed=0, is_petrified=0, is_prone=0)\n",
      "trait named []\n",
      "[]\n"
     ]
    }
   ],
   "source": [
    "print(hero_1.attributes.physical_defense, hero_1.attributes.physical_damage_reduction)\n",
    "hero_1.add_item([shield, magic_robes, sword])  # items are unique, and cannot be added twice to an actor\n",
    "print(hero_1.attributes.physical_defense, hero_1.attributes.physical_damage_reduction)\n",
    "\n",
    "print(\"shield\", shield.damage_modifiers)\n",
    "print(\"light_armor\", magic_robes.damage_modifiers)\n",
    "print(\"sword\", sword.damage_modifiers)\n",
    "\n",
    "print(shield.attributes)\n",
    "print(magic_robes.attributes)\n",
    "print(heavy_armor.attributes)\n",
    "print(hero_1.traits)"
   ]
  },
  {
   "cell_type": "code",
   "execution_count": 20,
   "metadata": {},
   "outputs": [
    {
     "name": "stdout",
     "output_type": "stream",
     "text": [
      "traits: \n",
      "traits: Small bleeding (Duration: 4)\n",
      "trait named ['Small bleeding']\n",
      "traits: Small bleeding (Duration: 3)\n",
      "trait named ['Small bleeding']\n",
      "[<pyTTRPGsimulator.traits.Trait object at 0x000001EF804C4F20>]\n"
     ]
    }
   ],
   "source": [
    "print(hero_2.traits_manager)\n",
    "hero_2.add_trait(bleeding)\n",
    "print(hero_2.traits_manager)\n",
    "hero_2.new_round()\n",
    "print(hero_2.traits_manager)\n",
    "print(hero_2.traits)"
   ]
  },
  {
   "cell_type": "code",
   "execution_count": 21,
   "metadata": {},
   "outputs": [
    {
     "name": "stdout",
     "output_type": "stream",
     "text": [
      "trait named ['fire_vulnerability']\n",
      "Weapons: [Vulnerability(Damage Type=Fire, value=2, is_multiplicative=True)]\n",
      "trait named ['Small bleeding']\n",
      "sources = ['Small bleeding']\n",
      "trait named []\n",
      "trait named ['Spell DC increase']\n",
      "trait named ['Spell DC increase']\n",
      "trait named ['fire_vulnerability']\n",
      "trait named ['fire_vulnerability']\n",
      "Vulnerabilities: [Vulnerability(Damage Type=Fire, value=2, is_multiplicative=True)]\n",
      "trait named ['Small bleeding', 'Spell DC increase', 'fire_vulnerability']\n",
      "sources = ['Small bleeding', 'Spell DC increase', 'fire_vulnerability']\n",
      "trait named []\n",
      "trait named ['Spell DC increase']\n",
      "trait named ['Spell DC increase']\n",
      "trait named ['fire_vulnerability']\n",
      "trait named ['fire_vulnerability']\n",
      "Vulnerabilities: [Vulnerability(Damage Type=Fire, value=2, is_multiplicative=True), Vulnerability(Damage Type=Fire, value=2, is_multiplicative=True)]\n",
      "trait named ['Small bleeding', 'Spell DC increase', 'fire_vulnerability', 'Spell DC increase', 'fire_vulnerability']\n",
      "sources = ['Small bleeding', 'Spell DC increase', 'fire_vulnerability', 'Spell DC increase', 'fire_vulnerability']\n",
      "trait named []\n",
      "trait named ['Spell DC increase']\n",
      "trait named ['Spell DC increase']\n",
      "trait named ['fire_vulnerability']\n",
      "trait named ['fire_vulnerability']\n",
      "Vulnerabilities: [Vulnerability(Damage Type=Fire, value=2, is_multiplicative=True), Vulnerability(Damage Type=Fire, value=2, is_multiplicative=True), Vulnerability(Damage Type=Fire, value=2, is_multiplicative=True)]\n"
     ]
    }
   ],
   "source": [
    "print(\"Weapons:\", sword.vulnerabilities)\n",
    "print(\"Vulnerabilities:\", hero_1.vulnerabilities)\n",
    "print(\"Vulnerabilities:\", hero_1.vulnerabilities)\n",
    "print(\"Vulnerabilities:\", hero_1.vulnerabilities)"
   ]
  },
  {
   "cell_type": "code",
   "execution_count": null,
   "metadata": {},
   "outputs": [],
   "source": [
    "# Display resistances and vulnerabilities\n",
    "\n",
    "print(\"Sword\", sword.attributes)\n",
    "print(\"Weapons:\", hero_1.weapons)\n",
    "print(\"Resistances:\", hero_1.resistances)\n",
    "print(\"Vulnerabilities:\", hero_1.vulnerabilities)\n",
    "print(\"Modifiers:\", hero_1.damage_modifiers)\n",
    "print(\"Vulnerabilities:\", hero_1.vulnerabilities)\n",
    "print(\"Vulnerabilities:\", hero_1.vulnerabilities)\n",
    "print(\"Weapons:\", hero_1.weapons)\n"
   ]
  },
  {
   "cell_type": "code",
   "execution_count": null,
   "metadata": {},
   "outputs": [],
   "source": [
    "# Simulate taking damage\n",
    "damages = [fire_damage, physical_damage]\n",
    "hero_1.take_damage(damages)\n",
    "\n",
    "print(\"total_physical_defense:\", hero_1.physical_defense)\n",
    "print(\"total_physical_defense:\", hero_1.mystical_defense)\n",
    "print(\"health_points:\", hero_1.current_health_points)\n",
    "print(\"modifiers:\", hero_1.damage_modifiers)\n",
    "print(\"mana:\", hero_1.current_mana_points)"
   ]
  },
  {
   "cell_type": "code",
   "execution_count": null,
   "metadata": {},
   "outputs": [],
   "source": [
    "#   Try attacks\n",
    "hero_1.full_rest()\n",
    "hero_2.full_rest()\n",
    "print(\"mana:\", hero_1.current_mana_points, hero_1.max_mana_points)\n",
    "attack = rpg.Attack()\n",
    "attack.execute(hero_1, [hero_2])  # we can wrap this nicely\n",
    "print(\"mana:\", hero_1.current_mana_points)\n",
    "print(hero_1.advantage_count)\n",
    "gain_advantage = rpg.GainAdvantage()\n",
    "gain_advantage.execute(hero_1, [hero_1])\n",
    "print(hero_1.advantage_count)"
   ]
  },
  {
   "cell_type": "code",
   "execution_count": null,
   "metadata": {},
   "outputs": [],
   "source": [
    "# Create a Fireball spell\n",
    "\n",
    "damage_action_success = rpg.InflictDamage(\n",
    "    damages=[rpg.Damage(damage_type=rpg.Fire(), value=10)])\n",
    "\n",
    "damage_action_failure = rpg.InflictDamage(\n",
    "    damages=[rpg.Damage(damage_type=rpg.Fire(), value=20)])\n",
    "\n",
    "fire_condition = rpg.Trait(duration=5, is_burning=True, name=\"Burning\")\n",
    "\n",
    "fireball_action = rpg.ImposeSavingThrow(\n",
    "    stat='Agility',\n",
    "    difficulty=15,\n",
    "    on_success=[damage_action_success],\n",
    "    on_failure=[damage_action_failure, fire_condition]\n",
    ")\n",
    "\n",
    "fireball = rpg.Spell(actions=[fireball_action], school=\"Elemental\", name=\"Fireball\")\n",
    "fireball.execute(hero_1, [hero_2])\n"
   ]
  },
  {
   "cell_type": "code",
   "execution_count": null,
   "metadata": {},
   "outputs": [],
   "source": [
    "fireball.execute(hero_1, [hero_2])\n",
    "\n",
    "print(\"modifiers:\", hero_2.modifiers)\n"
   ]
  },
  {
   "cell_type": "markdown",
   "metadata": {},
   "source": [
    "## Test combat initiative"
   ]
  },
  {
   "cell_type": "code",
   "execution_count": null,
   "metadata": {},
   "outputs": [],
   "source": [
    "# Example usage:\n",
    "players = [rpg.Actor(name=\"Player 1\", health_points=21, Might=4, equipped_items=[sword]),\n",
    "           rpg.Actor(name=\"Player 2\", health_points=22, Might=4, equipped_items=[sword])]\n",
    "monsters = [rpg.Actor(name=\"Monster 1\", health_points=21, Might=4, equipped_items=[sword]),\n",
    "            rpg.Actor(name=\"Monster 2\", health_points=22, Might=4, equipped_items=[sword])]\n",
    "combat_manager = rpg.CombatManager(players, monsters, dc=1)\n",
    "\n",
    "combat_manager.roll_initiative()\n"
   ]
  },
  {
   "cell_type": "markdown",
   "metadata": {},
   "source": [
    "# Test combat"
   ]
  },
  {
   "cell_type": "code",
   "execution_count": null,
   "metadata": {},
   "outputs": [],
   "source": [
    "combat_manager.reset_combat()\n",
    "num_rounds, num_turns, winning_team, remaining_hp = combat_manager.run_combat()\n",
    "print(\"num_rounds = \", num_rounds)\n",
    "print(\"num_turns = \", num_turns)\n",
    "print(\"winning_team = \", winning_team)\n",
    "print(combat_manager.fight_debrief())\n"
   ]
  },
  {
   "cell_type": "markdown",
   "metadata": {},
   "source": [
    "# Statistical results"
   ]
  },
  {
   "cell_type": "code",
   "execution_count": null,
   "metadata": {},
   "outputs": [],
   "source": [
    "players = [rpg.Actor(name=\"Hero 1\", health_points=15, Might=4, physical_defense=15, equipped_items=[sword], \n",
    "                      target_mode=\"target_weakest\", strategy=rpg.HelpAllyStrategy()),\n",
    "           rpg.Actor(name=\"Hero 2\", health_points=15, Might=4, physical_defense=15, equipped_items=[sword], \n",
    "                      target_mode=\"target_weakest\", strategy=rpg.HelpAllyStrategy())]\n",
    "\n",
    "monsters = [rpg.Actor(name=\"Wolf 1\", health_points=15, Might=4, physical_defense=15, equipped_items=[sword], \n",
    "                       target_mode=\"target_weakest\", strategy=rpg.DefaultStrategy()),\n",
    "            rpg.Actor(name=\"Wolf 2\", health_points=15, Might=4, physical_defense=15, equipped_items=[sword], \n",
    "                       target_mode=\"target_weakest\", strategy=rpg.DefaultStrategy())]\n",
    "\n",
    "num_rounds_list, num_turns_list, winrate_A, remaining_hp_list = rpg.run_simulations(5000, players, monsters, dc=15)\n",
    "print(winrate_A)"
   ]
  },
  {
   "cell_type": "code",
   "execution_count": null,
   "metadata": {},
   "outputs": [],
   "source": [
    "rpg.plot_simulation_results(num_turns_list, winrate_A, remaining_hp_list)"
   ]
  }
 ],
 "metadata": {
  "kernelspec": {
   "display_name": "torch",
   "language": "python",
   "name": "python3"
  },
  "language_info": {
   "codemirror_mode": {
    "name": "ipython",
    "version": 3
   },
   "file_extension": ".py",
   "mimetype": "text/x-python",
   "name": "python",
   "nbconvert_exporter": "python",
   "pygments_lexer": "ipython3",
   "version": "3.12.3"
  }
 },
 "nbformat": 4,
 "nbformat_minor": 2
}
