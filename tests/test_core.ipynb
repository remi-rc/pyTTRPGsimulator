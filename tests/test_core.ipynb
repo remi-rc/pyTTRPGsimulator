{
 "cells": [
  {
   "cell_type": "code",
   "execution_count": 1,
   "metadata": {},
   "outputs": [
    {
     "name": "stderr",
     "output_type": "stream",
     "text": [
      "This is a test error message from module actors\n"
     ]
    }
   ],
   "source": [
    "import logging\n",
    "from context import pyTTRPGsimulator as rpg\n",
    "rpg.setup_logging(logging.INFO)\n",
    "\n",
    "\n",
    "%reload_ext autoreload\n",
    "%autoreload 2"
   ]
  },
  {
   "cell_type": "code",
   "execution_count": 2,
   "metadata": {},
   "outputs": [
    {
     "name": "stdout",
     "output_type": "stream",
     "text": [
      "Attributes(physical_defense=8, mystical_defense=8, physical_damage_reduction=0, mystical_damage_reduction=0, max_health_points=10, max_stamina_points=0, max_grit_points=0, max_mana_points=0, might=0, agility=0, intelligence=0, charisma=0, prime_modifier_bonus=0, might_save=0, agility_save=0, intelligence_save=0, charisma_save=0, might_check=0, agility_check=0, intelligence_check=0, charisma_check=0, initiative=0, move_speed=5, might_adv=0, agility_adv=0, intelligence_adv=0, charisma_adv=0, combat_mastery=0, spell_DC=0, max_action_points=4, max_attack_before_penalty=1, critical_hit_damage=2, critical_hit_threshold=20, heavy_hit_damage=1, brutal_hit_damage=1, death_threshold=0, mastery_light_armor=True, mastery_heavy_armor=False, is_bleeding=False, is_blinded=False, is_burning=False, is_charmed=False, is_dazed=False, is_deafened=False, is_doomed=False, is_exposed=False, is_frightened=False, is_grappled=False, is_hindered=False, is_impaired=False, is_incapacitated=False, is_intimidated=False, is_invisible=False, is_paralyzed=False, is_petrified=False, is_prone=False)\n",
      "Attributes(physical_defense=16, mystical_defense=16, physical_damage_reduction=0, mystical_damage_reduction=0, max_health_points=20, max_stamina_points=0, max_grit_points=0, max_mana_points=0, might=0, agility=0, intelligence=0, charisma=0, prime_modifier_bonus=0, might_save=0, agility_save=0, intelligence_save=0, charisma_save=0, might_check=0, agility_check=0, intelligence_check=0, charisma_check=0, initiative=0, move_speed=10, might_adv=0, agility_adv=0, intelligence_adv=0, charisma_adv=0, combat_mastery=0, spell_DC=0, max_action_points=8, max_attack_before_penalty=2, critical_hit_damage=4, critical_hit_threshold=40, heavy_hit_damage=2, brutal_hit_damage=2, death_threshold=0, mastery_light_armor=2, mastery_heavy_armor=0, is_bleeding=0, is_blinded=0, is_burning=0, is_charmed=0, is_dazed=0, is_deafened=0, is_doomed=0, is_exposed=0, is_frightened=0, is_grappled=0, is_hindered=0, is_impaired=0, is_incapacitated=0, is_intimidated=0, is_invisible=0, is_paralyzed=0, is_petrified=0, is_prone=0)\n",
      "True\n"
     ]
    }
   ],
   "source": [
    "attributes = rpg.actor_attributes\n",
    "\n",
    "print(attributes)\n",
    "print(attributes + attributes)\n",
    "print(attributes == attributes)"
   ]
  },
  {
   "cell_type": "code",
   "execution_count": 3,
   "metadata": {},
   "outputs": [],
   "source": [
    "# Creating some damage modifiers\n",
    "fire_vulnerability = rpg.Trait(name=\"fire_vulnerability\",\n",
    "                               damage_modifiers=rpg.Vulnerability(damage_type=rpg.Fire(), \n",
    "                                                                  value=2, is_multiplicative=True))\n",
    "fire_resistance = rpg.Trait(name=\"fire_resistance\",\n",
    "                            damage_modifiers=rpg.Resistance(damage_type=rpg.Fire(), value=1))\n",
    "fire_immune = rpg.Trait(name=\"fire_immune\",\n",
    "                        damage_modifiers=rpg.Resistance(damage_type=rpg.Fire(), \n",
    "                                                        value=0, is_multiplicative=True))\n",
    "\n",
    "# Creating some damage\n",
    "fire_damage = rpg.Damage(damage_type=rpg.Fire(), value=4)\n",
    "physical_damage = rpg.Damage(damage_type=rpg.Slashing(), value=2)"
   ]
  },
  {
   "cell_type": "code",
   "execution_count": 6,
   "metadata": {},
   "outputs": [
    {
     "name": "stdout",
     "output_type": "stream",
     "text": [
      "here Regular Axe [Damage(damage_type=Slashing, value=2)] 1 None None\n",
      "here Flaming Sword [Damage(damage_type=Slashing, value=2), Damage(damage_type=Fire, value=4)] 1 None None\n"
     ]
    }
   ],
   "source": [
    "# Creating some items\n",
    "axe = rpg.MeleeWeapon(name=\"Regular Axe\", damages=[physical_damage])\n",
    "sword = rpg.MeleeWeapon(name=\"Flaming Sword\", damages=[physical_damage, fire_damage])  # Current limitation : only first damage gets any bonus\n",
    "shield = rpg.Shield(name=\"Targe\", physical_defense=2, physical_damage_reduction=1)\n",
    "light_armor = rpg.Armor(physical_defense=4, traits=[fire_immune], name=\"Novice Armor\")\n",
    "heavy_armor = rpg.Armor(physical_defense=6, traits=[fire_resistance], name=\"Plate Armor\")\n",
    "\n",
    "\n",
    "# Adding damage modifiers to items\n",
    "sword.add_trait([fire_vulnerability])\n",
    "sword.weapon_styles = [rpg.Sword_style()]\n",
    "shield.add_trait([fire_resistance])"
   ]
  },
  {
   "cell_type": "code",
   "execution_count": 7,
   "metadata": {},
   "outputs": [
    {
     "name": "stdout",
     "output_type": "stream",
     "text": [
      "[Vulnerability(Damage Type=Fire, value=2, is_multiplicative=True)]\n"
     ]
    }
   ],
   "source": [
    "print(sword.damage_modifiers)"
   ]
  },
  {
   "cell_type": "code",
   "execution_count": 8,
   "metadata": {},
   "outputs": [
    {
     "name": "stdout",
     "output_type": "stream",
     "text": [
      "3\n",
      "3\n",
      "4\n",
      "20\n",
      "3\n"
     ]
    }
   ],
   "source": [
    "# Creating an actor  (stats are 0 by default)\n",
    "hero_1 = rpg.Actor(max_health_points=20, combat_mastery=3, might=3, max_mana_points=5, name=\"hero_1\")\n",
    "hero_2 = rpg.Actor(max_health_points=20, combat_mastery=3, might=3, name=\"hero_2\")\n",
    "\n",
    "# Some status effects : the name is required for now to differentiate when a similar effect is added twice\n",
    "bleeding = rpg.Trait(duration=4, is_bleeding=True, name=\"Small bleeding\")\n",
    "blessed = rpg.Trait(duration=4, has_magic_weapon=True, name=\"Benediction\")\n",
    "\n",
    "\n",
    "# Attributes are dynamically added bia setters to the Actor class :\n",
    "print(hero_1.attributes.might)\n",
    "print(hero_1.might)\n",
    "\n",
    "print(hero_1.current_action_points)\n",
    "print(hero_1.current_health_points)\n",
    "print(hero_1.combat_mastery)"
   ]
  },
  {
   "cell_type": "code",
   "execution_count": 9,
   "metadata": {},
   "outputs": [
    {
     "name": "stdout",
     "output_type": "stream",
     "text": [
      "8 0\n",
      "14 1\n",
      "shield [Resistance(Damage Type=Fire, value=1, is_multiplicative=False)]\n",
      "light_armor [Resistance(Damage Type=Fire, value=0, is_multiplicative=True)]\n",
      "sword [Vulnerability(Damage Type=Fire, value=2, is_multiplicative=True)]\n"
     ]
    }
   ],
   "source": [
    "print(hero_1.attributes.physical_defense, hero_1.attributes.physical_damage_reduction)\n",
    "hero_1.add_item([shield, light_armor, sword])  # items are unique, and cannot be added twice to an actor\n",
    "print(hero_1.attributes.physical_defense, hero_1.attributes.physical_damage_reduction)\n",
    "\n",
    "print(\"shield\", shield.damage_modifiers)\n",
    "print(\"light_armor\", light_armor.damage_modifiers)\n",
    "print(\"sword\", sword.damage_modifiers)"
   ]
  },
  {
   "cell_type": "code",
   "execution_count": 10,
   "metadata": {},
   "outputs": [
    {
     "name": "stdout",
     "output_type": "stream",
     "text": [
      "traits: \n",
      "traits: Small bleeding (Duration: 4)\n",
      "traits: Small bleeding (Duration: 3)\n"
     ]
    }
   ],
   "source": [
    "print(hero_1.traits_manager)\n",
    "hero_1.add_trait(bleeding)\n",
    "print(hero_1.traits_manager)\n",
    "hero_1.new_round()\n",
    "print(hero_1.traits_manager)"
   ]
  },
  {
   "cell_type": "code",
   "execution_count": null,
   "metadata": {},
   "outputs": [],
   "source": [
    "# Display resistances and vulnerabilities\n",
    "print(\"Sword\", sword)\n",
    "print(\"Weapons:\", hero_1.weapons)\n",
    "print(\"Resistances:\", hero_1.resistances)\n",
    "print(\"Vulnerabilities:\", hero_1.vulnerabilities)\n",
    "print(\"Modifiers:\", hero_1.damage_modifiers)"
   ]
  },
  {
   "cell_type": "code",
   "execution_count": null,
   "metadata": {},
   "outputs": [],
   "source": [
    "# Simulate taking damage\n",
    "damages = [fire_damage, physical_damage]\n",
    "hero_1.take_damage(damages)\n",
    "\n",
    "print(\"total_physical_defense:\", hero_1.physical_defense)\n",
    "print(\"total_physical_defense:\", hero_1.mystical_defense)\n",
    "print(\"health_points:\", hero_1.current_health_points)\n",
    "print(\"modifiers:\", hero_1.damage_modifiers)"
   ]
  },
  {
   "cell_type": "code",
   "execution_count": null,
   "metadata": {},
   "outputs": [],
   "source": [
    "#   Try attacks\n",
    "hero_1.full_rest()\n",
    "hero_2.full_rest()\n",
    "\n",
    "\n",
    "attack = rpg.Attack()\n",
    "attack.execute(hero_1, [hero_2])  # we can wrap this nicely\n",
    "\n",
    "print(hero_1.advantage_count)\n",
    "gain_advantage = rpg.GainAdvantage()\n",
    "gain_advantage.execute(hero_1, [hero_1])\n",
    "print(hero_1.advantage_count)"
   ]
  },
  {
   "cell_type": "code",
   "execution_count": null,
   "metadata": {},
   "outputs": [],
   "source": [
    "# Create a Fireball spell\n",
    "\n",
    "damage_action_success = rpg.InflictDamage(\n",
    "    damages=[rpg.Damage(damage_type=rpg.Fire(), value=10)])\n",
    "\n",
    "damage_action_failure = rpg.InflictDamage(\n",
    "    damages=[rpg.Damage(damage_type=rpg.Fire(), value=20)])\n",
    "\n",
    "fire_condition = rpg.StatusEffect(duration=5, is_burning=True, name=\"Burning\")\n",
    "\n",
    "fireball_action = rpg.ImposeSavingThrow(\n",
    "    stat='Agility',\n",
    "    difficulty=15,\n",
    "    on_success=[damage_action_success],\n",
    "    on_failure=[damage_action_failure, fire_condition]\n",
    ")\n",
    "\n",
    "fireball = rpg.Spell(actions=[fireball_action], school=\"Elemental\", name=\"Fireball\")\n",
    "\n",
    "fireball.execute(hero_1, [hero_2])"
   ]
  },
  {
   "cell_type": "code",
   "execution_count": null,
   "metadata": {},
   "outputs": [],
   "source": [
    "fireball.execute(hero_1, [hero_2])\n",
    "\n",
    "print(\"modifiers:\", hero_2.modifiers)\n"
   ]
  },
  {
   "cell_type": "markdown",
   "metadata": {},
   "source": [
    "## Test combat initiative"
   ]
  },
  {
   "cell_type": "code",
   "execution_count": null,
   "metadata": {},
   "outputs": [],
   "source": [
    "# Example usage:\n",
    "players = [rpg.Actor(name=\"Player 1\", health_points=21, Might=4, equipped_items=[sword]),\n",
    "           rpg.Actor(name=\"Player 2\", health_points=22, Might=4, equipped_items=[sword])]\n",
    "monsters = [rpg.Actor(name=\"Monster 1\", health_points=21, Might=4, equipped_items=[sword]),\n",
    "            rpg.Actor(name=\"Monster 2\", health_points=22, Might=4, equipped_items=[sword])]\n",
    "combat_manager = rpg.CombatManager(players, monsters, dc=1)\n",
    "\n",
    "combat_manager.roll_initiative()\n"
   ]
  },
  {
   "cell_type": "markdown",
   "metadata": {},
   "source": [
    "# Test combat"
   ]
  },
  {
   "cell_type": "code",
   "execution_count": null,
   "metadata": {},
   "outputs": [],
   "source": [
    "combat_manager.reset_combat()\n",
    "num_rounds, num_turns, winning_team, remaining_hp = combat_manager.run_combat()\n",
    "print(\"num_rounds = \", num_rounds)\n",
    "print(\"num_turns = \", num_turns)\n",
    "print(\"winning_team = \", winning_team)\n",
    "print(combat_manager.fight_debrief())\n"
   ]
  },
  {
   "cell_type": "markdown",
   "metadata": {},
   "source": [
    "# Statistical results"
   ]
  },
  {
   "cell_type": "code",
   "execution_count": null,
   "metadata": {},
   "outputs": [],
   "source": [
    "players = [rpg.Actor(name=\"Hero 1\", health_points=15, Might=4, physical_defense=15, equipped_items=[sword], \n",
    "                      target_mode=\"target_weakest\", strategy=rpg.HelpAllyStrategy()),\n",
    "           rpg.Actor(name=\"Hero 2\", health_points=15, Might=4, physical_defense=15, equipped_items=[sword], \n",
    "                      target_mode=\"target_weakest\", strategy=rpg.HelpAllyStrategy())]\n",
    "\n",
    "monsters = [rpg.Actor(name=\"Wolf 1\", health_points=15, Might=4, physical_defense=15, equipped_items=[sword], \n",
    "                       target_mode=\"target_weakest\", strategy=rpg.DefaultStrategy()),\n",
    "            rpg.Actor(name=\"Wolf 2\", health_points=15, Might=4, physical_defense=15, equipped_items=[sword], \n",
    "                       target_mode=\"target_weakest\", strategy=rpg.DefaultStrategy())]\n",
    "\n",
    "num_rounds_list, num_turns_list, winrate_A, remaining_hp_list = rpg.run_simulations(5000, players, monsters, dc=15)\n",
    "print(winrate_A)"
   ]
  },
  {
   "cell_type": "code",
   "execution_count": null,
   "metadata": {},
   "outputs": [],
   "source": [
    "rpg.plot_simulation_results(num_turns_list, winrate_A, remaining_hp_list)"
   ]
  }
 ],
 "metadata": {
  "kernelspec": {
   "display_name": "torch",
   "language": "python",
   "name": "python3"
  },
  "language_info": {
   "codemirror_mode": {
    "name": "ipython",
    "version": 3
   },
   "file_extension": ".py",
   "mimetype": "text/x-python",
   "name": "python",
   "nbconvert_exporter": "python",
   "pygments_lexer": "ipython3",
   "version": "3.12.3"
  }
 },
 "nbformat": 4,
 "nbformat_minor": 2
}
